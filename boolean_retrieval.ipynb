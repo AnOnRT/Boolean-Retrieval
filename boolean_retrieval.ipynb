{
 "cells": [
  {
   "cell_type": "code",
   "execution_count": 3,
   "id": "7c2d4164",
   "metadata": {},
   "outputs": [],
   "source": [
    "import numpy as np\n",
    "from xml.etree import ElementTree as ET\n",
    "import re\n",
    "import os\n",
    "from lxml import etree\n",
    "from collections import defaultdict"
   ]
  },
  {
   "cell_type": "code",
   "execution_count": 86,
   "id": "fdaa2c7e",
   "metadata": {},
   "outputs": [],
   "source": [
    "documents_en_filepath = \"./A1/documents_en\" #Change to your desired folder path of English xml documents\n",
    "documents_cz_filepath = \"./A1/documents_cs\" #Change to your desired folder path of Czech xml documents"
   ]
  },
  {
   "cell_type": "code",
   "execution_count": 87,
   "id": "9e9284fd",
   "metadata": {},
   "outputs": [],
   "source": [
    "topics_train_en_filepath = \"./A1/topics-train_en.xml\" #Change to your desired filepath of English topics train file\n",
    "topics_train_cz_filepath = \"./A1/topics-train_cs.xml\" #Change to your desired filepath of Czech topics train file"
   ]
  },
  {
   "cell_type": "code",
   "execution_count": 88,
   "id": "487d4e91",
   "metadata": {},
   "outputs": [],
   "source": [
    "qrels_train_en_filepath = \"./A1/qrels-train_en.txt\" #Change to your desired filepath of English queries, docID and relativeness file\n",
    "qrels_train_cz_filepath = \"./A1/qrels-train_cs.txt\" #Change to your desired filepath of Czech queries, docID and relativeness file"
   ]
  },
  {
   "cell_type": "code",
   "execution_count": 117,
   "id": "97844f2c",
   "metadata": {},
   "outputs": [],
   "source": [
    "queries_answers_en_filename = \"queries_answers_en.txt\" #Change to desired name of output file for English queries answers\n",
    "queries_answers_cz_filename = \"queries_answers_cs.txt\" #Change to desired name of output file for Czech queries answers"
   ]
  },
  {
   "cell_type": "code",
   "execution_count": 89,
   "id": "1006eadb",
   "metadata": {},
   "outputs": [],
   "source": [
    "def tokenize(text):\n",
    "    return [word for word in re.split(r'\\W+', text) if word]\n",
    "\n",
    "def tokenize1(text):\n",
    "    return {word for word in re.split(r'\\W+', text) if word}"
   ]
  },
  {
   "cell_type": "code",
   "execution_count": 90,
   "id": "392ef043",
   "metadata": {},
   "outputs": [],
   "source": [
    "def create_inverted_index_from_files(files_path):\n",
    "    inverted_index = defaultdict(set)\n",
    "    files2process = [file for file in os.listdir(files_path) if file.endswith('.xml')]\n",
    "    doc_ids = set()\n",
    "    for file_name in files2process:\n",
    "        xml_file_path = os.path.join(files_path, file_name)\n",
    "        parser = etree.XMLParser(recover=True)\n",
    "        tree = etree.parse(xml_file_path, parser)\n",
    "        root = tree.getroot()\n",
    "        \n",
    "        for doc in root.findall('.//DOC'):\n",
    "            doc_id = doc.find('.//DOCID').text.strip() if doc.find('.//DOCID') is not None else None\n",
    "            if doc_id:\n",
    "                doc_ids.add(doc_id)\n",
    "                    \n",
    "                tokens = set()\n",
    "                if(files_path.endswith('en')):\n",
    "                    for tag in ['HD', 'LD', 'TE']:\n",
    "                        for elem in doc.findall(f'.//{tag}'):\n",
    "                            if elem.text:\n",
    "                                tokens.update(tokenize1(elem.text.strip()))\n",
    "                elif(files_path.endswith('cs')):\n",
    "                    for tag in ['TITLE', 'TEXT', 'HEADING']:\n",
    "                        for elem in doc.findall(f'.//{tag}'):\n",
    "                            if elem.text:\n",
    "                                tokens.update(tokenize1(elem.text.strip()))\n",
    "                \n",
    "                for token in tokens:\n",
    "                    inverted_index[token].add(doc_id)\n",
    "\n",
    "    return dict(inverted_index), doc_ids"
   ]
  },
  {
   "cell_type": "code",
   "execution_count": 91,
   "id": "91fe4924",
   "metadata": {},
   "outputs": [],
   "source": [
    "inverted_index_en, doc_ids_en = create_inverted_index_from_files(documents_en_filepath)\n",
    "inverted_index_cz, doc_ids_cz = create_inverted_index_from_files(documents_cz_filepath)"
   ]
  },
  {
   "cell_type": "code",
   "execution_count": 92,
   "id": "56142cc5",
   "metadata": {},
   "outputs": [],
   "source": [
    "def intersection(set1, set2):\n",
    "    return set1 & set2\n",
    "\n",
    "def union(set1, set2):\n",
    "    return set1 | set2\n",
    "\n",
    "def complement(universe_set, subset):\n",
    "    return universe_set - subset"
   ]
  },
  {
   "cell_type": "code",
   "execution_count": 93,
   "id": "cb47f8b0",
   "metadata": {},
   "outputs": [],
   "source": [
    "def get_queries(fpath):\n",
    "    xml_file_path = fpath\n",
    "    tree = etree.parse(xml_file_path)\n",
    "    root = tree.getroot()\n",
    "    queries_dict = defaultdict(set)\n",
    "    for top in root.findall('.//top'):\n",
    "        num = top.find('.//num').text.strip()\n",
    "        query = top.find('.//query').text.strip()\n",
    "        queries_dict[num] = query\n",
    "\n",
    "    return queries_dict"
   ]
  },
  {
   "cell_type": "code",
   "execution_count": 94,
   "id": "acd13ad9",
   "metadata": {},
   "outputs": [],
   "source": [
    "xml_file_path_en = topics_train_en_filepath\n",
    "xml_file_path_cz = topics_train_cz_filepath"
   ]
  },
  {
   "cell_type": "code",
   "execution_count": 95,
   "id": "a45c8639",
   "metadata": {},
   "outputs": [],
   "source": [
    "queries_dict_en = get_queries(xml_file_path_en)\n",
    "queries_dict_cz = get_queries(xml_file_path_cz)"
   ]
  },
  {
   "cell_type": "code",
   "execution_count": 96,
   "id": "5fe6720e",
   "metadata": {},
   "outputs": [
    {
     "data": {
      "text/plain": [
       "defaultdict(set,\n",
       "            {'10.2452/401-AH': 'inflation AND Euro AND NOT football',\n",
       "             '10.2452/402-AH': 'renewable AND energy AND sources',\n",
       "             '10.2452/403-AH': '(movie OR role) AND (policeman OR cop)',\n",
       "             '10.2452/404-AH': 'nato AND summit AND security',\n",
       "             '10.2452/405-AH': 'children AND asthma',\n",
       "             '10.2452/406-AH': 'animated AND cartoons',\n",
       "             '10.2452/407-AH': '(australian OR australian) AND prime AND minister AND 2002',\n",
       "             '10.2452/408-AH': 'human AND (cloning OR clone)',\n",
       "             '10.2452/409-AH': 'Bali AND car AND bombing AND 2002',\n",
       "             '10.2452/410-AH': '>North AND Korea AND nuclear AND weapons AND 1994',\n",
       "             '10.2452/411-AH': 'oscar AND best AND director AND 2002',\n",
       "             '10.2452/412-AH': 'politician AND book',\n",
       "             '10.2452/413-AH': 'diabetes AND risk AND reduction',\n",
       "             '10.2452/414-AH': '(beer AND festival) OR Oktoberfest',\n",
       "             '10.2452/415-AH': 'drug AND (abuse OR addiction)',\n",
       "             '10.2452/416-AH': 'moscow AND theatre AND hostages',\n",
       "             '10.2452/417-AH': '(airplane OR plane OR flight) AND hijacking',\n",
       "             '10.2452/418-AH': 'Ecevit AND (statement OR announcement)',\n",
       "             '10.2452/419-AH': 'nuclear AND waste AND (repository OR storage)',\n",
       "             '10.2452/420-AH': '(obesity OR overweight) AND health',\n",
       "             '10.2452/421-AH': 'kostelic AND olympic AND medal',\n",
       "             '10.2452/422-AH': '(factory OR businesses) AND (closing OR closure)',\n",
       "             '10.2452/423-AH': '(flu OR influenza) AND vaccination AND alternative',\n",
       "             '10.2452/424-AH': 'internet AND banking',\n",
       "             '10.2452/425-AH': '(extinction OR enendangered) AND specie AND illegal'})"
      ]
     },
     "execution_count": 96,
     "metadata": {},
     "output_type": "execute_result"
    }
   ],
   "source": [
    "queries_dict_en"
   ]
  },
  {
   "cell_type": "code",
   "execution_count": 97,
   "id": "165527d5",
   "metadata": {},
   "outputs": [
    {
     "data": {
      "text/plain": [
       "defaultdict(set,\n",
       "            {'10.2452/401-AH': 'inflace AND Euro AND NOT fotbal',\n",
       "             '10.2452/402-AH': 'obnovitelný AND zdroj',\n",
       "             '10.2452/403-AH': '(policista OR policie) AND (film OR role)',\n",
       "             '10.2452/404-AH': 'summit AND nato AND opatření',\n",
       "             '10.2452/405-AH': 'astma AND děti AND příčina',\n",
       "             '10.2452/406-AH': 'animovaný AND film AND ocenění AND festival',\n",
       "             '10.2452/407-AH': '(australský OR Austrálie) AND premiér AND 2002',\n",
       "             '10.2452/408-AH': '(lidé OR člověk) AND klonování',\n",
       "             '10.2452/409-AH': '(bomba OR terorismus) AND Bali AND 2002',\n",
       "             '10.2452/410-AH': 'severní AND korea AND dohoda AND jaderný AND 1984',\n",
       "             '10.2452/411-AH': 'Oskar AND cena AND film AND režisér',\n",
       "             '10.2452/412-AH': '(kniha OR bigrafie OR prospekt) AND politika',\n",
       "             '10.2452/413-AH': 'snižení AND riziko AND cukrovka',\n",
       "             '10.2452/414-AH': '(pivní AND festival) OR Oktoberfest',\n",
       "             '10.2452/415-AH': '(drogy OR závislost OR drogový) AND NOT kontraband',\n",
       "             '10.2452/416-AH': '(moskva OR moskevský) AND divadlo AND rukojmí',\n",
       "             '10.2452/417-AH': 'únos AND letadlo AND islám',\n",
       "             '10.2452/418-AH': 'Ecevit AND prohlášení AND NOT nemoc',\n",
       "             '10.2452/419-AH': '(úložiště OR uchování) AND jaderný AND odpad',\n",
       "             '10.2452/420-AH': '(obezita OR nadváha OR váha) AND nemoc',\n",
       "             '10.2452/421-AH': '(Kostelič OR Kosteličová OR Kosteličovy) AND olympiáda AND medaile',\n",
       "             '10.2452/422-AH': '(továrna OR podnik OR obchod) AND uzavření',\n",
       "             '10.2452/423-AH': 'léčba AND chřipka AND NOT očkování',\n",
       "             '10.2452/424-AH': 'internet AND bankovnictví',\n",
       "             '10.2452/425-AH': '(ohrožený OR chráněný) AND druh'})"
      ]
     },
     "execution_count": 97,
     "metadata": {},
     "output_type": "execute_result"
    }
   ],
   "source": [
    "queries_dict_cz"
   ]
  },
  {
   "cell_type": "code",
   "execution_count": 98,
   "id": "649a302b",
   "metadata": {},
   "outputs": [],
   "source": [
    "class Node:\n",
    "    def __init__(self, value=None, left=None, right=None):\n",
    "        self.value = value\n",
    "        self.left = left\n",
    "        self.right = right"
   ]
  },
  {
   "cell_type": "code",
   "execution_count": 99,
   "id": "16ac2c48",
   "metadata": {},
   "outputs": [],
   "source": [
    "def parse_query(query, inverted_index, universal_set):\n",
    "    tokens = re.findall(r'\\(|\\)|\\w+|\\S', query)\n",
    "    return evaluate_expression(tokens, inverted_index, universal_set)"
   ]
  },
  {
   "cell_type": "code",
   "execution_count": 100,
   "id": "d08724f5",
   "metadata": {},
   "outputs": [],
   "source": [
    "def evaluate_expression(tokens, inverted_index, universal_set):\n",
    "    if not tokens:\n",
    "        return None\n",
    "\n",
    "    stack = []\n",
    "    while tokens:\n",
    "        token = tokens.pop(0)\n",
    "        if token == '(':\n",
    "            sub_expr = evaluate_expression(tokens, inverted_index, universal_set)\n",
    "            stack.append(sub_expr)\n",
    "        elif token == ')':\n",
    "            break\n",
    "        elif token.upper() == 'NOT':\n",
    "            next_token = evaluate_expression(tokens, inverted_index, universal_set)\n",
    "            result = evaluate_operator(token.upper(), next_token, None, inverted_index, universal_set)\n",
    "            stack.append(result)\n",
    "        elif token.upper() in ['AND', 'OR']:\n",
    "            right = evaluate_expression(tokens, inverted_index, universal_set)\n",
    "            left = stack.pop() if stack else None\n",
    "            result = evaluate_operator(token.upper(), left, right, inverted_index, universal_set)\n",
    "            stack.append(result)\n",
    "        else:\n",
    "            if inverted_index.get(token) == None:\n",
    "                stack.append(set())\n",
    "            else:\n",
    "                stack.append(inverted_index.get(token))\n",
    "\n",
    "    if len(stack) > 1:\n",
    "        result = stack.pop(0)\n",
    "        while stack:\n",
    "            right = stack.pop(0)\n",
    "            result = result & right\n",
    "        return result\n",
    "    else:\n",
    "        return stack[0]"
   ]
  },
  {
   "cell_type": "code",
   "execution_count": 101,
   "id": "b72451b9",
   "metadata": {},
   "outputs": [],
   "source": [
    "def evaluate_operator(operator, left, right, inverted_index, universal_set):\n",
    "    if operator == 'AND':\n",
    "        return left & right if right is not None else left\n",
    "    elif operator == 'OR':\n",
    "        return left | right if right is not None else left\n",
    "    elif operator == 'NOT':\n",
    "        return universal_set - left\n",
    "    return set()"
   ]
  },
  {
   "cell_type": "code",
   "execution_count": 102,
   "id": "cf75b8e1",
   "metadata": {},
   "outputs": [],
   "source": [
    "def print_tree(node, level=0):\n",
    "    if node is not None:\n",
    "        print_tree(node.right, level + 1)\n",
    "        print(' ' * 4 * level + '->', node.value)\n",
    "        print_tree(node.left, level + 1)"
   ]
  },
  {
   "cell_type": "code",
   "execution_count": 103,
   "id": "a83047cc",
   "metadata": {},
   "outputs": [],
   "source": [
    "def get_relevent_doc_ids(fpath, query_id):\n",
    "    relevent_doc_ids = set()\n",
    "    with open(fpath, 'r', encoding='utf-8') as file:\n",
    "        for line in file:\n",
    "            line1 = line.strip().split()\n",
    "            if line1[0] == query_id and line1[3] == \"1\":\n",
    "                relevent_doc_ids.add(line1[2])\n",
    "\n",
    "    return relevent_doc_ids"
   ]
  },
  {
   "cell_type": "code",
   "execution_count": 104,
   "id": "1bd5806f",
   "metadata": {},
   "outputs": [],
   "source": [
    "def get_grund_truth_doc_ids(fpath, query_id):\n",
    "    relevent_doc_ids = defaultdict(set)\n",
    "    with open(fpath, 'r', encoding='utf-8') as file:\n",
    "        for line in file:\n",
    "            line1 = line.strip().split()\n",
    "            if line1[0] == query_id:\n",
    "                if line1[3] == \"1\":\n",
    "                    relevent_doc_ids[\"1\"].add(line1[2])\n",
    "                if line1[3] == \"0\":\n",
    "                    relevent_doc_ids[\"0\"].add(line1[2])\n",
    "\n",
    "    return relevent_doc_ids"
   ]
  },
  {
   "cell_type": "code",
   "execution_count": 105,
   "id": "9a4e81a4",
   "metadata": {},
   "outputs": [],
   "source": [
    "def get_groundTruth_queryAns(train_path, inverted_index, queries_dict, doc_ids):\n",
    "    queries_answers = defaultdict(set)\n",
    "    ground_truth = defaultdict(dict)\n",
    "    for query_id, query in queries_dict.items():\n",
    "        result = parse_query(query, inverted_index, doc_ids)\n",
    "        ground_truth[query_id] = get_grund_truth_doc_ids(train_path, query_id)\n",
    "        queries_answers[query_id] = result\n",
    "    return ground_truth, queries_answers"
   ]
  },
  {
   "cell_type": "code",
   "execution_count": 106,
   "id": "bdcfda55",
   "metadata": {},
   "outputs": [],
   "source": [
    "ground_truth_en, queries_answers_en = get_groundTruth_queryAns(qrels_train_en_filepath, inverted_index_en, queries_dict_en, doc_ids_en)\n",
    "ground_truth_cz, queries_answers_cz = get_groundTruth_queryAns(qrels_train_cz_filepath, inverted_index_cz, queries_dict_cz, doc_ids_cz)"
   ]
  },
  {
   "cell_type": "code",
   "execution_count": 107,
   "id": "d8530aa6",
   "metadata": {},
   "outputs": [],
   "source": [
    "def calculate_precision_recall(ground_truth, queries_answers):\n",
    "    results = {}\n",
    "    \n",
    "    for query_id, answers in queries_answers.items():\n",
    "        true_positives = len(answers & ground_truth[query_id][\"1\"])\n",
    "        false_positives = len(answers - ground_truth[query_id][\"1\"])\n",
    "        false_negatives = len(ground_truth[query_id][\"1\"] - answers)\n",
    "        \n",
    "        precision = true_positives / (true_positives + false_positives) if (true_positives + false_positives) > 0 else 0\n",
    "        recall = true_positives / (true_positives + false_negatives) if (true_positives + false_negatives) > 0 else 0\n",
    "        \n",
    "        results[query_id] = {\"precision\": precision, \"recall\": recall}\n",
    "        \n",
    "    return results"
   ]
  },
  {
   "cell_type": "code",
   "execution_count": 108,
   "id": "199b10f8",
   "metadata": {},
   "outputs": [],
   "source": [
    "results_en = calculate_precision_recall(ground_truth_en, queries_answers_en)\n",
    "results_cz = calculate_precision_recall(ground_truth_cz, queries_answers_cz)"
   ]
  },
  {
   "cell_type": "code",
   "execution_count": 109,
   "id": "133f8a32",
   "metadata": {},
   "outputs": [],
   "source": [
    "def calculate_average_precision_recall(results):\n",
    "    total_precision = 0\n",
    "    total_recall = 0\n",
    "    num_queries = len(results)\n",
    "\n",
    "    for query_id in results:\n",
    "        total_precision += results[query_id]['precision']\n",
    "        total_recall += results[query_id]['recall']\n",
    "\n",
    "    average_precision = total_precision / num_queries if num_queries > 0 else 0\n",
    "    average_recall = total_recall / num_queries if num_queries > 0 else 0\n",
    "\n",
    "    return average_precision, average_recall\n"
   ]
  },
  {
   "cell_type": "code",
   "execution_count": 110,
   "id": "3dbe0abc",
   "metadata": {},
   "outputs": [],
   "source": [
    "average_precision_en, average_recall_en = calculate_average_precision_recall(results_en)\n",
    "average_precision_cz, average_recall_cz = calculate_average_precision_recall(results_cz)"
   ]
  },
  {
   "cell_type": "code",
   "execution_count": 111,
   "id": "22e57c48",
   "metadata": {},
   "outputs": [
    {
     "name": "stdout",
     "output_type": "stream",
     "text": [
      "Average Precision ENG: 0.1698188391235194\n",
      "Average Recall ENG: 0.3136040268294562\n",
      "Average Precision CZE: 0.11657206716623145\n",
      "Average Recall CZE: 0.10944759141567652\n"
     ]
    }
   ],
   "source": [
    "print(f\"Average Precision ENG: {average_precision_en}\")\n",
    "print(f\"Average Recall ENG: {average_recall_en}\")\n",
    "print(f\"Average Precision CZE: {average_precision_cz}\")\n",
    "print(f\"Average Recall CZE: {average_recall_cz}\")"
   ]
  },
  {
   "cell_type": "code",
   "execution_count": 115,
   "id": "2e1b2796",
   "metadata": {},
   "outputs": [],
   "source": [
    "def write_query_doc_pairs_to_file(queries_answers, filename):\n",
    "    with open(filename, 'w') as file:\n",
    "        for query_id, docs in queries_answers.items():\n",
    "            for doc_id in docs:\n",
    "                file.write(f\"{query_id} {doc_id}\\n\")"
   ]
  },
  {
   "cell_type": "code",
   "execution_count": 119,
   "id": "863bbf42",
   "metadata": {},
   "outputs": [],
   "source": [
    "write_query_doc_pairs_to_file(queries_answers_en, queries_answers_en_filename)\n",
    "write_query_doc_pairs_to_file(queries_answers_cz, queries_answers_cz_filename)"
   ]
  },
  {
   "cell_type": "code",
   "execution_count": null,
   "id": "0ea9b069",
   "metadata": {},
   "outputs": [],
   "source": []
  }
 ],
 "metadata": {
  "kernelspec": {
   "display_name": "Python 3 (ipykernel)",
   "language": "python",
   "name": "python3"
  },
  "language_info": {
   "codemirror_mode": {
    "name": "ipython",
    "version": 3
   },
   "file_extension": ".py",
   "mimetype": "text/x-python",
   "name": "python",
   "nbconvert_exporter": "python",
   "pygments_lexer": "ipython3",
   "version": "3.9.12"
  }
 },
 "nbformat": 4,
 "nbformat_minor": 5
}
